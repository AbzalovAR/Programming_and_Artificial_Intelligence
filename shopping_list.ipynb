{
  "nbformat": 4,
  "nbformat_minor": 0,
  "metadata": {
    "colab": {
      "provenance": [],
      "authorship_tag": "ABX9TyODw2JZ3gWrk8EBpmKgWCD1",
      "include_colab_link": true
    },
    "kernelspec": {
      "name": "python3",
      "display_name": "Python 3"
    },
    "language_info": {
      "name": "python"
    }
  },
  "cells": [
    {
      "cell_type": "markdown",
      "metadata": {
        "id": "view-in-github",
        "colab_type": "text"
      },
      "source": [
        "<a href=\"https://colab.research.google.com/github/AbzalovAR/Programming_and_Artificial_Intelligence/blob/main/shopping_list.ipynb\" target=\"_parent\"><img src=\"https://colab.research.google.com/assets/colab-badge.svg\" alt=\"Open In Colab\"/></a>"
      ]
    },
    {
      "cell_type": "markdown",
      "source": [
        "**Задание 2** <br>\n",
        "Создайте консольный список покупок.У пользователя должен быть выбор из 4 команд: <br>Добавить товар\n",
        "<br>Убрать товар\n",
        "<br>Показать список\n",
        "<br>Закончить\n",
        "<br>При добавлении товара пользователь так-же указывает его количество, если пользователь добавляет товар, который уже есть в списке, то его количество должно добавиться к количеству существующего товара.\n",
        "\n"
      ],
      "metadata": {
        "id": "1gpS6lCBprx7"
      }
    },
    {
      "cell_type": "code",
      "execution_count": 4,
      "metadata": {
        "colab": {
          "base_uri": "https://localhost:8080/"
        },
        "id": "NPWEqItxoptU",
        "outputId": "120f0379-be40-4c7d-82cc-211b1230a8fa"
      },
      "outputs": [
        {
          "output_type": "stream",
          "name": "stdout",
          "text": [
            "\n",
            "Выберите действие:\n",
            "1. Добавить товар\n",
            "2. Убрать товар\n",
            "3. Показать список\n",
            "4. Закончить\n",
            "Ваш выбор (1-4): 5\n",
            "Неверный выбор. Введите значение от 1 до 4. Попробуйте еще раз.\n",
            "\n",
            "Выберите действие:\n",
            "1. Добавить товар\n",
            "2. Убрать товар\n",
            "3. Показать список\n",
            "4. Закончить\n",
            "Ваш выбор (1-4): 1\n",
            "Введите название товара: Помидоры\n",
            "Введите количество: 1\n",
            "Добавлено 1 Помидоры(ов)\n",
            "\n",
            "Выберите действие:\n",
            "1. Добавить товар\n",
            "2. Убрать товар\n",
            "3. Показать список\n",
            "4. Закончить\n",
            "Ваш выбор (1-4): 1\n",
            "Введите название товара: Помидоры\n",
            "Введите количество: 4\n",
            "Добавлено 4 Помидоры(ов)\n",
            "\n",
            "Выберите действие:\n",
            "1. Добавить товар\n",
            "2. Убрать товар\n",
            "3. Показать список\n",
            "4. Закончить\n",
            "Ваш выбор (1-4): 3\n",
            "\n",
            "Список покупок:\n",
            "Помидоры: 5\n",
            "\n",
            "Выберите действие:\n",
            "1. Добавить товар\n",
            "2. Убрать товар\n",
            "3. Показать список\n",
            "4. Закончить\n",
            "Ваш выбор (1-4): 1\n",
            "Введите название товара: Огурцы\n",
            "Введите количество: 5\n",
            "Добавлено 5 Огурцы(ов)\n",
            "\n",
            "Выберите действие:\n",
            "1. Добавить товар\n",
            "2. Убрать товар\n",
            "3. Показать список\n",
            "4. Закончить\n",
            "Ваш выбор (1-4): 3\n",
            "\n",
            "Список покупок:\n",
            "Помидоры: 5\n",
            "Огурцы: 5\n",
            "\n",
            "Выберите действие:\n",
            "1. Добавить товар\n",
            "2. Убрать товар\n",
            "3. Показать список\n",
            "4. Закончить\n",
            "Ваш выбор (1-4): 4\n",
            "Программа завершена.\n"
          ]
        }
      ],
      "source": [
        "# Создаем функцию для создания списка покупок\n",
        "def main():\n",
        "    shopping_list = {}  # Словарь для хранения товаров и их количества\n",
        "\n",
        "    while True:\n",
        "        print(\"\\nВыберите действие:\")\n",
        "        print(\"1. Добавить товар\")\n",
        "        print(\"2. Убрать товар\")\n",
        "        print(\"3. Показать список\")\n",
        "        print(\"4. Закончить\")\n",
        "\n",
        "        choice = input(\"Ваш выбор (1-4): \")\n",
        "\n",
        "        # Запишем цикл выбора значений, которые может выбрать пользователь\n",
        "        if choice == '1':\n",
        "            add_item(shopping_list)\n",
        "        elif choice == '2':\n",
        "            remove_item(shopping_list)\n",
        "        elif choice == '3':\n",
        "            show_list(shopping_list)\n",
        "        elif choice == '4':\n",
        "            print(\"Программа завершена.\")\n",
        "            break\n",
        "        else:\n",
        "            print(\"Неверный выбор. Введите значение от 1 до 4. Попробуйте еще раз.\")\n",
        "\n",
        "# Создаем функцию добавления товара в список покупок\n",
        "def add_item(shopping_list):\n",
        "    item = input(\"Введите название товара: \")\n",
        "    try:\n",
        "        quantity = int(input(\"Введите количество: \"))\n",
        "        if quantity <= 0:\n",
        "            print(\"Количество должно быть положительным числом.\")\n",
        "            return\n",
        "        if item in shopping_list:\n",
        "            shopping_list[item] += quantity\n",
        "        else:\n",
        "            shopping_list[item] = quantity\n",
        "        print(f\"Добавлено {quantity} {item}(ов)\")\n",
        "    except ValueError:\n",
        "        print(\"Ошибка: введите число для количества.\")\n",
        "\n",
        "# Создаем функцию удаления товара из списка покупок\n",
        "def remove_item(shopping_list):\n",
        "    item = input(\"Введите название товара для удаления: \")\n",
        "    if item in shopping_list:\n",
        "        del shopping_list[item]\n",
        "        print(f\"Товар {item} удален из списка.\")\n",
        "    else:\n",
        "        print(\"Товар не найден в списке.\")\n",
        "\n",
        "# Создаем функцию вывода списка покупок на экран\n",
        "def show_list(shopping_list):\n",
        "    if not shopping_list:\n",
        "        print(\"Список покупок пуст.\")\n",
        "        return\n",
        "    print(\"\\nСписок покупок:\")\n",
        "    for item, quantity in shopping_list.items():\n",
        "        print(f\"{item}: {quantity}\")\n",
        "\n",
        "if __name__ == \"__main__\":\n",
        "    main()\n"
      ]
    }
  ]
}