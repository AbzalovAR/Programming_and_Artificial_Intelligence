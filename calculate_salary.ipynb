{
  "nbformat": 4,
  "nbformat_minor": 0,
  "metadata": {
    "colab": {
      "provenance": [],
      "authorship_tag": "ABX9TyMSB8YbIHKb2/b8Z5qrmbgv",
      "include_colab_link": true
    },
    "kernelspec": {
      "name": "python3",
      "display_name": "Python 3"
    },
    "language_info": {
      "name": "python"
    }
  },
  "cells": [
    {
      "cell_type": "markdown",
      "metadata": {
        "id": "view-in-github",
        "colab_type": "text"
      },
      "source": [
        "<a href=\"https://colab.research.google.com/github/AbzalovAR/Programming_and_Artificial_Intelligence/blob/main/calculate_salary.ipynb\" target=\"_parent\"><img src=\"https://colab.research.google.com/assets/colab-badge.svg\" alt=\"Open In Colab\"/></a>"
      ]
    },
    {
      "cell_type": "markdown",
      "source": [
        "# ЗАДАНИЕ\n",
        "## Реализуйте иерархию классов для представления сотрудников в системе учета компании.\n",
        "\n",
        "Базовый класс Employee:\n",
        "\n",
        "\tКонструктор должен принимать и сохранять основные данные: id, name, position (должность), base_salary (базовый оклад).\n",
        "\n",
        "\tМетод calculate_salary() возвращает итоговую зарплату. В базовой реализации это просто base_salary.\n",
        "\n",
        "Производные классы:\n",
        "\n",
        "\tManager: Помимо базового оклада, получает фиксированный бонус (bonus). Переопределите метод расчета зарплаты.\n",
        "\n",
        "\tDeveloper: Может иметь почасовую ставку (hourly_rate) и отработанные часы (hours_worked). ИЛИ получает бонус за завершенные проекты. Выберите одну схему и переопределите метод расчета зарплаты.\n",
        "\n",
        "\t(На усмотрение студента) Придумайте и реализуйте еще один тип сотрудника (например, Intern с фиксированной стипендией).\n",
        "\n",
        "Требования:\n",
        "\n",
        "\tИспользуйте наследование.\n",
        "\n",
        "\tВ конструкторах дочерних классов обязательно применяйте super().\n",
        "\n",
        "\tПродемонстрируйте работу: создайте список с разными типами сотрудников и выведите зарплату для каждого, вызвав один и тот же метод calculate_salary().\n"
      ],
      "metadata": {
        "id": "1SPs4ZuXAseB"
      }
    },
    {
      "cell_type": "markdown",
      "source": [
        "## Аннотация к решению:\n",
        "1. Класс Employee является базовым и содержит следующие параметры:\n",
        " id, ФИО, должность и базовый оклад.\n",
        "2. Метод calculate_salary(), возвращающий базовый оклад со всеми надбавками.\n",
        "3. Метод str для удобного вывода информации\n",
        "4. Класс Manager наследуется от Employee и добавляет дополнительный параметр bonus (бонус)\n",
        "5. Класс Developer также наследуется от Employee и имеет возможность указывать почасовую ставку (hourly_rate) и отработанные часы (hours_worked).\n"
      ],
      "metadata": {
        "id": "KIB8b8OABg06"
      }
    },
    {
      "cell_type": "code",
      "source": [
        "class Employee:\n",
        "    def __init__(self, emp_id, name, position, base_salary):\n",
        "        self.emp_id = emp_id\n",
        "        self.name = name\n",
        "        self.position = position\n",
        "        self.base_salary = base_salary\n",
        "\n",
        "    def calculate_salary(self):\n",
        "        \"\"\"Возвращает итоговую зарплату сотрудника\"\"\"\n",
        "        return self.base_salary\n",
        "\n",
        "    def __str__(self):\n",
        "        return (f\"Сотрудник ID: {self.emp_id}\\n\"\n",
        "                f\"Имя: {self.name}\\n\"\n",
        "                f\"Должность: {self.position}\\n\"\n",
        "                f\"Базовый оклад: {self.base_salary}\")\n",
        "\n",
        "\n",
        "class Manager(Employee):\n",
        "    def __init__(self, emp_id, name, position, base_salary, bonus):\n",
        "        super().__init__(emp_id, name, position, base_salary)\n",
        "        self.bonus = bonus  # бонус менеджера\n",
        "\n",
        "    def calculate_salary(self):\n",
        "        \"\"\"Возвращает итоговую зарплату менеджера с учетом бонуса\"\"\"\n",
        "        return self.base_salary + self.bonus\n",
        "\n",
        "    def __str__(self):\n",
        "        base_info = super().__str__()\n",
        "        return (f\"{base_info}\\n\"\n",
        "                f\"Бонус: {self.bonus}\")\n",
        "                #f\"Итоговая зарплата: {self.calculate_salary()}\")\n",
        "\n",
        "class Developer(Employee):\n",
        "    def __init__(self, employee_id, name, position, base_salary, hourly_rate=None, hours_worked=None):\n",
        "        super().__init__(employee_id, name, position, base_salary)\n",
        "        self.hourly_rate = hourly_rate\n",
        "        self.hours_worked = hours_worked\n",
        "\n",
        "    def calculate_salary(self):\n",
        "        if self.hourly_rate and self.hours_worked:\n",
        "            return self.base_salary + (self.hourly_rate * self.hours_worked)\n",
        "        return self.base_salary\n",
        "\n",
        "    def __str__(self):\n",
        "        base_info = super().__str__()\n",
        "        if self.hourly_rate and self.hours_worked:\n",
        "            return (f\"{base_info}\\n\"\n",
        "                    f\"Почасовая ставка: {self.hourly_rate}\\n\"\n",
        "                    f\"Отработанные часы: {self.hours_worked}\")\n",
        "        return base_info\n",
        "\n",
        "class  Intern_(Employee):\n",
        "    def __init__(self, emp_id, name, position, base_salary, scholarship):\n",
        "        super().__init__(emp_id, name, position, base_salary)\n",
        "        self.scholarship = scholarship  # стипендия\n",
        "\n",
        "    def calculate_salary(self):\n",
        "        \"\"\"Возвращает итоговую зарплату студента с учетом стипендии\"\"\"\n",
        "        return self.base_salary + self.scholarship\n",
        "\n",
        "    def __str__(self):\n",
        "        base_info = super().__str__()\n",
        "        return (f\"{base_info}\\n\"\n",
        "                f\"Стипендия: {self.scholarship}\")\n",
        "                #f\"Итоговая зарплата: {self.calculate_salary()}\")\n",
        "\n",
        "\n",
        "# Пример использования:\n",
        "# Создание обычного сотрудника\n",
        "employee = Employee(1, \"Иван Петров\", \"Программист\", 100000)\n",
        "print(employee)\n",
        "print(f\"Итоговая зарплата: {employee.calculate_salary()}\\n\")\n",
        "\n",
        "# Создание менеджера с бонусом к зарплате\n",
        "manager = Manager(2, \"Анна Сидорова\", \"Руководитель отдела\", 150000, 50000)\n",
        "print(manager)\n",
        "print(f\"Итоговая зарплата: {manager.calculate_salary()}\\n\")\n",
        "\n",
        "# Создание разработчика с почасовой оплатой\n",
        "developer = Developer(3, \"Петр Сидоров\", \"Разработчик\", 70000, 350, 168)\n",
        "print(developer)\n",
        "print(f\"Итоговая зарплата: {developer.calculate_salary()}\\n\")\n",
        "\n",
        "# Создание интерна со стипендией\n",
        "intern_ = Intern_(4, \"Сидоров Николай Петрович\", \"Студент\", 0, 18000)\n",
        "print(intern_)\n",
        "print(f\"Итоговая зарплата: {intern_.calculate_salary()}\")\n"
      ],
      "metadata": {
        "colab": {
          "base_uri": "https://localhost:8080/"
        },
        "id": "ugeQpb7GA9IV",
        "outputId": "7a67a062-f3c3-46b9-9d77-ff24b053b29a"
      },
      "execution_count": 16,
      "outputs": [
        {
          "output_type": "stream",
          "name": "stdout",
          "text": [
            "Сотрудник ID: 1\n",
            "Имя: Иван Петров\n",
            "Должность: Программист\n",
            "Базовый оклад: 100000\n",
            "Итоговая зарплата: 100000\n",
            "\n",
            "Сотрудник ID: 2\n",
            "Имя: Анна Сидорова\n",
            "Должность: Руководитель отдела\n",
            "Базовый оклад: 150000\n",
            "Бонус: 50000\n",
            "Итоговая зарплата: 200000\n",
            "\n",
            "Сотрудник ID: 3\n",
            "Имя: Петр Сидоров\n",
            "Должность: Разработчик\n",
            "Базовый оклад: 70000\n",
            "Почасовая ставка: 350\n",
            "Отработанные часы: 168\n",
            "Итоговая зарплата: 128800\n",
            "\n",
            "Сотрудник ID: 4\n",
            "Имя: Сидоров Николай Петрович\n",
            "Должность: Студент\n",
            "Базовый оклад: 0\n",
            "Стипендия: 18000\n",
            "Итоговая зарплата: 18000\n"
          ]
        }
      ]
    }
  ]
}