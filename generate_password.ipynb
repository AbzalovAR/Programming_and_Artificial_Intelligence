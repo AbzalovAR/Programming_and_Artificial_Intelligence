{
  "nbformat": 4,
  "nbformat_minor": 0,
  "metadata": {
    "colab": {
      "provenance": [],
      "authorship_tag": "ABX9TyO2IWDnCC4EGZDqEYz1Tgzr",
      "include_colab_link": true
    },
    "kernelspec": {
      "name": "python3",
      "display_name": "Python 3"
    },
    "language_info": {
      "name": "python"
    }
  },
  "cells": [
    {
      "cell_type": "markdown",
      "metadata": {
        "id": "view-in-github",
        "colab_type": "text"
      },
      "source": [
        "<a href=\"https://colab.research.google.com/github/AbzalovAR/Programming_and_Artificial_Intelligence/blob/main/generate_password.ipynb\" target=\"_parent\"><img src=\"https://colab.research.google.com/assets/colab-badge.svg\" alt=\"Open In Colab\"/></a>"
      ]
    },
    {
      "cell_type": "markdown",
      "source": [
        "**Задание 1** <br>\n",
        "Создайте функцию, которая будет генерировать безопасный пароль указанной длинны. Пароль должен содержать, строчную букву, заглавную букву, символ и цифру, у вас не может быть последовательных одинаковых символов. <br>\n",
        "То есть если ваш пароль начинается со строчной буквы, то после нее не может быть еще одной буквы, должна быть цифра, заглавная буква или символ."
      ],
      "metadata": {
        "id": "JVi1G0COlKg2"
      }
    },
    {
      "cell_type": "code",
      "execution_count": 1,
      "metadata": {
        "id": "pAucSlMkhZrg"
      },
      "outputs": [],
      "source": [
        "# Скачиваем нужные библиотеки\n",
        "import random\n",
        "import string\n"
      ]
    },
    {
      "cell_type": "code",
      "source": [
        "def generate_secure_password(length):\n",
        "    if length < 4:\n",
        "        raise ValueError(\"Длина пароля должна быть не менее 4 символов\")\n",
        "    # Определяем категории символов\n",
        "    lower = string.ascii_lowercase\n",
        "    upper = string.ascii_uppercase\n",
        "    digits = string.digits\n",
        "    symbols = string.punctuation\n",
        "\n",
        "    # Гарантированно добавляем по одному символу из каждой категории\n",
        "    password = [\n",
        "        random.choice(lower),\n",
        "        random.choice(upper),\n",
        "        random.choice(digits),\n",
        "        random.choice(symbols)\n",
        "    ]\n",
        "    # Заполняем оставшуюся длину пароля случайными символами\n",
        "    all_chars = lower + upper + digits + symbols\n",
        "    while len(password) < length:\n",
        "        next_char = random.choice(all_chars)\n",
        "\n",
        "        # Проверяем, чтобы не было последовательных одинаковых символов\n",
        "        if len(password) == 0 or next_char != password[-1]:\n",
        "            password.append(next_char)\n",
        "\n",
        "    # Можем перемешать символы для большей случайности\n",
        "    # random.shuffle(password)\n",
        "\n",
        "    return ''.join(password)\n",
        "\n",
        "\n"
      ],
      "metadata": {
        "id": "hcZYg_eajlSl"
      },
      "execution_count": 14,
      "outputs": []
    },
    {
      "cell_type": "code",
      "source": [
        " # Пример использования:\n",
        "print(generate_secure_password(8))\n",
        "\n"
      ],
      "metadata": {
        "colab": {
          "base_uri": "https://localhost:8080/"
        },
        "id": "couuwRFQkATc",
        "outputId": "e4193bbd-cb4c-4b76-8f0e-957165eea4c0"
      },
      "execution_count": 19,
      "outputs": [
        {
          "output_type": "stream",
          "name": "stdout",
          "text": [
            "bR2(N#m\"\n"
          ]
        }
      ]
    }
  ]
}